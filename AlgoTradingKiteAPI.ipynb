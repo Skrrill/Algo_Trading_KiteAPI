{
  "nbformat": 4,
  "nbformat_minor": 0,
  "metadata": {
    "colab": {
      "provenance": []
    },
    "kernelspec": {
      "name": "python3",
      "display_name": "Python 3"
    },
    "language_info": {
      "name": "python"
    }
  },
  "cells": [
    {
      "cell_type": "code",
      "execution_count": 1,
      "metadata": {
        "colab": {
          "base_uri": "https://localhost:8080/"
        },
        "id": "Qpsl0iLgXzci",
        "outputId": "6e1bd33c-29c8-4c19-9166-6fb9750a9f16"
      },
      "outputs": [
        {
          "output_type": "stream",
          "name": "stdout",
          "text": [
            "Collecting kiteconnect\n",
            "  Downloading kiteconnect-5.0.1-py3-none-any.whl.metadata (8.0 kB)\n",
            "Collecting service-identity>=18.1.0 (from kiteconnect)\n",
            "  Downloading service_identity-24.2.0-py3-none-any.whl.metadata (5.1 kB)\n",
            "Requirement already satisfied: requests>=2.18.4 in /usr/local/lib/python3.11/dist-packages (from kiteconnect) (2.32.3)\n",
            "Requirement already satisfied: six>=1.11.0 in /usr/local/lib/python3.11/dist-packages (from kiteconnect) (1.17.0)\n",
            "Requirement already satisfied: pyOpenSSL>=17.5.0 in /usr/local/lib/python3.11/dist-packages (from kiteconnect) (24.2.1)\n",
            "Requirement already satisfied: python-dateutil>=2.6.1 in /usr/local/lib/python3.11/dist-packages (from kiteconnect) (2.9.0.post0)\n",
            "Collecting autobahn==19.11.2 (from autobahn[twisted]==19.11.2->kiteconnect)\n",
            "  Downloading autobahn-19.11.2-py2.py3-none-any.whl.metadata (16 kB)\n",
            "Collecting txaio>=18.8.1 (from autobahn==19.11.2->autobahn[twisted]==19.11.2->kiteconnect)\n",
            "  Downloading txaio-23.1.1-py2.py3-none-any.whl.metadata (5.4 kB)\n",
            "Requirement already satisfied: cryptography>=2.7 in /usr/local/lib/python3.11/dist-packages (from autobahn==19.11.2->autobahn[twisted]==19.11.2->kiteconnect) (43.0.3)\n",
            "Collecting zope.interface>=3.6.0 (from autobahn[twisted]==19.11.2->kiteconnect)\n",
            "  Downloading zope.interface-7.2-cp311-cp311-manylinux_2_5_x86_64.manylinux1_x86_64.manylinux_2_17_x86_64.manylinux2014_x86_64.whl.metadata (44 kB)\n",
            "\u001b[2K     \u001b[90m━━━━━━━━━━━━━━━━━━━━━━━━━━━━━━━━━━━━━━━━\u001b[0m \u001b[32m44.4/44.4 kB\u001b[0m \u001b[31m1.4 MB/s\u001b[0m eta \u001b[36m0:00:00\u001b[0m\n",
            "\u001b[?25hCollecting Twisted>=12.1.0 (from autobahn[twisted]==19.11.2->kiteconnect)\n",
            "  Downloading twisted-24.11.0-py3-none-any.whl.metadata (20 kB)\n",
            "Requirement already satisfied: charset-normalizer<4,>=2 in /usr/local/lib/python3.11/dist-packages (from requests>=2.18.4->kiteconnect) (3.4.2)\n",
            "Requirement already satisfied: idna<4,>=2.5 in /usr/local/lib/python3.11/dist-packages (from requests>=2.18.4->kiteconnect) (3.10)\n",
            "Requirement already satisfied: urllib3<3,>=1.21.1 in /usr/local/lib/python3.11/dist-packages (from requests>=2.18.4->kiteconnect) (2.4.0)\n",
            "Requirement already satisfied: certifi>=2017.4.17 in /usr/local/lib/python3.11/dist-packages (from requests>=2.18.4->kiteconnect) (2025.4.26)\n",
            "Requirement already satisfied: attrs>=19.1.0 in /usr/local/lib/python3.11/dist-packages (from service-identity>=18.1.0->kiteconnect) (25.3.0)\n",
            "Requirement already satisfied: pyasn1 in /usr/local/lib/python3.11/dist-packages (from service-identity>=18.1.0->kiteconnect) (0.6.1)\n",
            "Requirement already satisfied: pyasn1-modules in /usr/local/lib/python3.11/dist-packages (from service-identity>=18.1.0->kiteconnect) (0.4.2)\n",
            "Requirement already satisfied: cffi>=1.12 in /usr/local/lib/python3.11/dist-packages (from cryptography>=2.7->autobahn==19.11.2->autobahn[twisted]==19.11.2->kiteconnect) (1.17.1)\n",
            "Collecting automat>=24.8.0 (from Twisted>=12.1.0->autobahn[twisted]==19.11.2->kiteconnect)\n",
            "  Downloading automat-25.4.16-py3-none-any.whl.metadata (8.4 kB)\n",
            "Collecting constantly>=15.1 (from Twisted>=12.1.0->autobahn[twisted]==19.11.2->kiteconnect)\n",
            "  Downloading constantly-23.10.4-py3-none-any.whl.metadata (1.8 kB)\n",
            "Collecting hyperlink>=17.1.1 (from Twisted>=12.1.0->autobahn[twisted]==19.11.2->kiteconnect)\n",
            "  Downloading hyperlink-21.0.0-py2.py3-none-any.whl.metadata (1.5 kB)\n",
            "Collecting incremental>=24.7.0 (from Twisted>=12.1.0->autobahn[twisted]==19.11.2->kiteconnect)\n",
            "  Downloading incremental-24.7.2-py3-none-any.whl.metadata (8.1 kB)\n",
            "Requirement already satisfied: typing-extensions>=4.2.0 in /usr/local/lib/python3.11/dist-packages (from Twisted>=12.1.0->autobahn[twisted]==19.11.2->kiteconnect) (4.13.2)\n",
            "Requirement already satisfied: setuptools in /usr/local/lib/python3.11/dist-packages (from zope.interface>=3.6.0->autobahn[twisted]==19.11.2->kiteconnect) (75.2.0)\n",
            "Requirement already satisfied: pycparser in /usr/local/lib/python3.11/dist-packages (from cffi>=1.12->cryptography>=2.7->autobahn==19.11.2->autobahn[twisted]==19.11.2->kiteconnect) (2.22)\n",
            "Downloading kiteconnect-5.0.1-py3-none-any.whl (24 kB)\n",
            "Downloading autobahn-19.11.2-py2.py3-none-any.whl (771 kB)\n",
            "\u001b[2K   \u001b[90m━━━━━━━━━━━━━━━━━━━━━━━━━━━━━━━━━━━━━━━━\u001b[0m \u001b[32m771.5/771.5 kB\u001b[0m \u001b[31m19.2 MB/s\u001b[0m eta \u001b[36m0:00:00\u001b[0m\n",
            "\u001b[?25hDownloading service_identity-24.2.0-py3-none-any.whl (11 kB)\n",
            "Downloading twisted-24.11.0-py3-none-any.whl (3.2 MB)\n",
            "\u001b[2K   \u001b[90m━━━━━━━━━━━━━━━━━━━━━━━━━━━━━━━━━━━━━━━━\u001b[0m \u001b[32m3.2/3.2 MB\u001b[0m \u001b[31m41.3 MB/s\u001b[0m eta \u001b[36m0:00:00\u001b[0m\n",
            "\u001b[?25hDownloading txaio-23.1.1-py2.py3-none-any.whl (30 kB)\n",
            "Downloading zope.interface-7.2-cp311-cp311-manylinux_2_5_x86_64.manylinux1_x86_64.manylinux_2_17_x86_64.manylinux2014_x86_64.whl (259 kB)\n",
            "\u001b[2K   \u001b[90m━━━━━━━━━━━━━━━━━━━━━━━━━━━━━━━━━━━━━━━━\u001b[0m \u001b[32m259.8/259.8 kB\u001b[0m \u001b[31m14.7 MB/s\u001b[0m eta \u001b[36m0:00:00\u001b[0m\n",
            "\u001b[?25hDownloading automat-25.4.16-py3-none-any.whl (42 kB)\n",
            "\u001b[2K   \u001b[90m━━━━━━━━━━━━━━━━━━━━━━━━━━━━━━━━━━━━━━━━\u001b[0m \u001b[32m42.8/42.8 kB\u001b[0m \u001b[31m2.1 MB/s\u001b[0m eta \u001b[36m0:00:00\u001b[0m\n",
            "\u001b[?25hDownloading constantly-23.10.4-py3-none-any.whl (13 kB)\n",
            "Downloading hyperlink-21.0.0-py2.py3-none-any.whl (74 kB)\n",
            "\u001b[2K   \u001b[90m━━━━━━━━━━━━━━━━━━━━━━━━━━━━━━━━━━━━━━━━\u001b[0m \u001b[32m74.6/74.6 kB\u001b[0m \u001b[31m4.0 MB/s\u001b[0m eta \u001b[36m0:00:00\u001b[0m\n",
            "\u001b[?25hDownloading incremental-24.7.2-py3-none-any.whl (20 kB)\n",
            "Installing collected packages: zope.interface, txaio, incremental, hyperlink, constantly, automat, Twisted, service-identity, autobahn, kiteconnect\n",
            "Successfully installed Twisted-24.11.0 autobahn-19.11.2 automat-25.4.16 constantly-23.10.4 hyperlink-21.0.0 incremental-24.7.2 kiteconnect-5.0.1 service-identity-24.2.0 txaio-23.1.1 zope.interface-7.2\n"
          ]
        }
      ],
      "source": [
        "pip install kiteconnect\n"
      ]
    },
    {
      "cell_type": "code",
      "source": [
        "from kiteconnect import KiteConnect\n",
        "\n",
        "api_key = \"ee4qcdgz7zxz0j45\"\n",
        "api_secret = \"bl8gny5b9wg2bkzk9ztsbdah3f94xze8\"\n",
        "\n",
        "kite = KiteConnect(api_key=api_key)\n",
        "\n",
        "print(\"Login URL:\", kite.login_url())\n",
        "\n",
        "request_token = input(\"Enter Request Token from URL: \")\n",
        "\n",
        "data = kite.generate_session(request_token, api_secret=api_secret)\n",
        "access_token = data[\"access_token\"]\n",
        "kite.set_access_token(access_token)\n",
        "\n",
        "print(\"Access token:\", access_token)\n"
      ],
      "metadata": {
        "colab": {
          "base_uri": "https://localhost:8080/"
        },
        "id": "Ds1eMV7rYClo",
        "outputId": "9c52e331-e9b1-4ea1-b8ce-c5a648646e08"
      },
      "execution_count": 2,
      "outputs": [
        {
          "output_type": "stream",
          "name": "stdout",
          "text": [
            "Login URL: https://kite.zerodha.com/connect/login?api_key=ee4qcdgz7zxz0j45&v=3\n",
            "Enter Request Token from URL: lgvSSsiM5NteMIy2EDKu2Ey1aM8f2ndS\n",
            "Access token: WaT1Iel5QoXtH6DgOuq9ydBdBlTIqzWh\n"
          ]
        }
      ]
    },
    {
      "cell_type": "code",
      "source": [
        "!pip install yfinance --quiet\n"
      ],
      "metadata": {
        "id": "pBcup6Ctbbhd"
      },
      "execution_count": 8,
      "outputs": []
    },
    {
      "cell_type": "code",
      "source": [
        "import yfinance as yf\n",
        "import pandas as pd\n",
        "\n",
        "ticker = \"INFY.NS\"\n",
        "\n",
        "data = yf.download(ticker, start=\"2023-01-01\")\n",
        "\n",
        "print(data.head())"
      ],
      "metadata": {
        "colab": {
          "base_uri": "https://localhost:8080/"
        },
        "id": "ZTdPxSIMcUV9",
        "outputId": "5f645c86-c1ce-42a1-d8dc-6858df4768c0"
      },
      "execution_count": 9,
      "outputs": [
        {
          "output_type": "stream",
          "name": "stdout",
          "text": [
            "YF.download() has changed argument auto_adjust default to True\n"
          ]
        },
        {
          "output_type": "stream",
          "name": "stderr",
          "text": [
            "\r[*********************100%***********************]  1 of 1 completed"
          ]
        },
        {
          "output_type": "stream",
          "name": "stdout",
          "text": [
            "Price             Close         High          Low         Open   Volume\n",
            "Ticker          INFY.NS      INFY.NS      INFY.NS      INFY.NS  INFY.NS\n",
            "Date                                                                   \n",
            "2023-01-02  1459.632446  1462.026856  1440.525100  1450.054806  3801140\n",
            "2023-01-03  1458.243652  1467.917046  1451.108240  1455.657619  4551130\n",
            "2023-01-04  1431.665649  1456.759019  1428.121853  1456.759019  7059590\n",
            "2023-01-05  1412.893555  1442.296983  1407.194905  1442.296983  9868404\n",
            "2023-01-06  1387.321289  1412.702038  1385.405761  1407.913217  6443714\n"
          ]
        },
        {
          "output_type": "stream",
          "name": "stderr",
          "text": [
            "\n"
          ]
        }
      ]
    },
    {
      "cell_type": "code",
      "source": [
        "data.reset_index(inplace=True)\n",
        "\n",
        "data.rename(columns={\n",
        "    \"Date\": \"date\",\n",
        "    \"Open\": \"open\",\n",
        "    \"High\": \"high\",\n",
        "    \"Low\": \"low\",\n",
        "    \"Close\": \"close\",\n",
        "    \"Volume\": \"volume\",\n",
        "    \"Adj Close\": \"adj_close\"\n",
        "}, inplace=True)\n",
        "\n",
        "print(data.head())\n"
      ],
      "metadata": {
        "colab": {
          "base_uri": "https://localhost:8080/"
        },
        "id": "dn5_7JpwcY5L",
        "outputId": "2094d25f-0828-47a2-bb84-533a5e6c79b2"
      },
      "execution_count": 10,
      "outputs": [
        {
          "output_type": "stream",
          "name": "stdout",
          "text": [
            "Price        date        close         high          low         open   volume\n",
            "Ticker                 INFY.NS      INFY.NS      INFY.NS      INFY.NS  INFY.NS\n",
            "0      2023-01-02  1459.632446  1462.026856  1440.525100  1450.054806  3801140\n",
            "1      2023-01-03  1458.243652  1467.917046  1451.108240  1455.657619  4551130\n",
            "2      2023-01-04  1431.665649  1456.759019  1428.121853  1456.759019  7059590\n",
            "3      2023-01-05  1412.893555  1442.296983  1407.194905  1442.296983  9868404\n",
            "4      2023-01-06  1387.321289  1412.702038  1385.405761  1407.913217  6443714\n"
          ]
        }
      ]
    },
    {
      "cell_type": "code",
      "source": [
        "import pandas as pd\n",
        "\n",
        "df = pd.DataFrame(data)\n",
        "df['sma20'] = df['close'].rolling(20).mean()\n",
        "df['sma50'] = df['close'].rolling(50).mean()\n",
        "\n",
        "# Buy Signal: SMA20 crosses above SMA50\n",
        "if df['sma20'].iloc[-2] < df['sma50'].iloc[-2] and df['sma20'].iloc[-1] > df['sma50'].iloc[-1]:\n",
        "    print(\"Buy Signal\")\n"
      ],
      "metadata": {
        "id": "npbVToSOc3Xd"
      },
      "execution_count": 11,
      "outputs": []
    },
    {
      "cell_type": "code",
      "source": [
        "kite.place_order(\n",
        "    variety=kite.VARIETY_REGULAR,\n",
        "    exchange=kite.EXCHANGE_NSE,\n",
        "    tradingsymbol=\"INFY\",\n",
        "    transaction_type=kite.TRANSACTION_TYPE_BUY,\n",
        "    quantity=1,\n",
        "    order_type=kite.ORDER_TYPE_MARKET,\n",
        "    product=kite.PRODUCT_CNC\n",
        ")\n"
      ],
      "metadata": {
        "colab": {
          "base_uri": "https://localhost:8080/",
          "height": 35
        },
        "id": "fIGnv_R0dEL-",
        "outputId": "6b8965af-15fa-4f7b-9993-aa0604d98b59"
      },
      "execution_count": 12,
      "outputs": [
        {
          "output_type": "execute_result",
          "data": {
            "text/plain": [
              "'250515402421431'"
            ],
            "application/vnd.google.colaboratory.intrinsic+json": {
              "type": "string"
            }
          },
          "metadata": {},
          "execution_count": 12
        }
      ]
    },
    {
      "cell_type": "code",
      "source": [],
      "metadata": {
        "id": "J31Cc_0cdIhX"
      },
      "execution_count": null,
      "outputs": []
    }
  ]
}